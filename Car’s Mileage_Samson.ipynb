{
 "cells": [
  {
   "cell_type": "code",
   "execution_count": 6,
   "id": "5a16ab29",
   "metadata": {},
   "outputs": [
    {
     "name": "stdout",
     "output_type": "stream",
     "text": [
      "Shapiro-Wilk Test for Normality - p-value: 0.6504\n",
      "              Anova\n",
      "=================================\n",
      "    F Value Num DF  Den DF Pr > F\n",
      "---------------------------------\n",
      "Oil  0.5679 3.0000 12.0000 0.6466\n",
      "=================================\n",
      "\n",
      "\n",
      "APA Format Report:\n",
      "Repeated Measures ANOVA was conducted to assess the difference in car mileage between four engine oils.\n",
      "\n",
      "Assumption Checks:\n",
      "1. Independence Assumption: No specific test is required, assuming independence of car mileages.\n",
      "2. Normality Assumption: Shapiro-Wilk Test p-value = 0.6504. The residuals are approximately normally distributed.\n",
      "\n",
      "ANOVA Results:\n",
      "      F Value  Num DF  Den DF    Pr > F\n",
      "Oil  0.567884     3.0    12.0  0.646647\n"
     ]
    }
   ],
   "source": [
    "import numpy as np\n",
    "import pandas as pd\n",
    "from scipy.stats import shapiro\n",
    "from statsmodels.stats.anova import AnovaRM\n",
    "\n",
    "# Create the data\n",
    "dataframe = pd.DataFrame({'Cars': np.repeat([1, 2, 3, 4, 5], 4),\n",
    "                          'Oil': np.tile([1, 2, 3, 4], 5),\n",
    "                          'Mileage': [36, 38, 30, 29,\n",
    "                                      34, 38, 30, 29,\n",
    "                                      34, 28, 38, 32,\n",
    "                                      38, 34, 20, 44,\n",
    "                                      26, 28, 34, 50]})\n",
    "\n",
    "# Check the assumptions\n",
    "\n",
    "# 1. Independence Assumption: Assuming each car's mileage is independent of the others.\n",
    "# No specific test is required for this assumption.\n",
    "\n",
    "# 2. Normality Assumption: Check if the residuals are approximately normally distributed.\n",
    "# Using Shapiro-Wilk test for normality\n",
    "residuals = dataframe['Mileage'] - dataframe.groupby('Oil')['Mileage'].transform('mean')\n",
    "shapiro_test_stat, shapiro_p_value = shapiro(residuals)\n",
    "print(f\"Shapiro-Wilk Test for Normality - p-value: {shapiro_p_value:.4f}\")\n",
    "\n",
    "# 3. Sphericity Assumption: Mauchly's Test for Sphericity\n",
    "\n",
    "\n",
    "# Conduct repeated-measures ANOVA\n",
    "anova_result = AnovaRM(dataframe, 'Mileage', 'Cars', within=['Oil']).fit()\n",
    "\n",
    "# Print ANOVA table\n",
    "print(anova_result)\n",
    "\n",
    "# Report the results in APA format\n",
    "print(\"\\nAPA Format Report:\")\n",
    "print(\"Repeated Measures ANOVA was conducted to assess the difference in car mileage between four engine oils.\")\n",
    "print(\"\\nAssumption Checks:\")\n",
    "print(f\"1. Independence Assumption: No specific test is required, assuming independence of car mileages.\")\n",
    "print(f\"2. Normality Assumption: Shapiro-Wilk Test p-value = {shapiro_p_value:.4f}. The residuals are approximately normally distributed.\")\n",
    "\n",
    "# Interpret the results\n",
    "print(\"\\nANOVA Results:\")\n",
    "print(anova_result.anova_table)\n"
   ]
  },
  {
   "cell_type": "code",
   "execution_count": null,
   "id": "a13b225c",
   "metadata": {},
   "outputs": [],
   "source": []
  }
 ],
 "metadata": {
  "kernelspec": {
   "display_name": "Python 3 (ipykernel)",
   "language": "python",
   "name": "python3"
  },
  "language_info": {
   "codemirror_mode": {
    "name": "ipython",
    "version": 3
   },
   "file_extension": ".py",
   "mimetype": "text/x-python",
   "name": "python",
   "nbconvert_exporter": "python",
   "pygments_lexer": "ipython3",
   "version": "3.11.4"
  }
 },
 "nbformat": 4,
 "nbformat_minor": 5
}
