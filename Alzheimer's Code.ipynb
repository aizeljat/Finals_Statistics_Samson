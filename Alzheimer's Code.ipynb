{
 "cells": [
  {
   "cell_type": "code",
   "execution_count": 1,
   "id": "8bf4496e",
   "metadata": {},
   "outputs": [],
   "source": [
    "import pandas as pd\n",
    "import os"
   ]
  },
  {
   "cell_type": "code",
   "execution_count": 2,
   "id": "ddd84410",
   "metadata": {},
   "outputs": [
    {
     "data": {
      "text/plain": [
       "'C:\\\\Users\\\\User\\\\OneDrive\\\\FRESHMAN\\\\3rd yr - 1st Sem\\\\Statistics'"
      ]
     },
     "execution_count": 2,
     "metadata": {},
     "output_type": "execute_result"
    }
   ],
   "source": [
    "pwd"
   ]
  },
  {
   "cell_type": "code",
   "execution_count": 4,
   "id": "f4ab56e4",
   "metadata": {},
   "outputs": [
    {
     "data": {
      "text/html": [
       "<div>\n",
       "<style scoped>\n",
       "    .dataframe tbody tr th:only-of-type {\n",
       "        vertical-align: middle;\n",
       "    }\n",
       "\n",
       "    .dataframe tbody tr th {\n",
       "        vertical-align: top;\n",
       "    }\n",
       "\n",
       "    .dataframe thead th {\n",
       "        text-align: right;\n",
       "    }\n",
       "</style>\n",
       "<table border=\"1\" class=\"dataframe\">\n",
       "  <thead>\n",
       "    <tr style=\"text-align: right;\">\n",
       "      <th></th>\n",
       "      <th>AD_Status</th>\n",
       "      <th>Treatment</th>\n",
       "      <th>Training</th>\n",
       "      <th>Memory</th>\n",
       "    </tr>\n",
       "  </thead>\n",
       "  <tbody>\n",
       "    <tr>\n",
       "      <th>0</th>\n",
       "      <td>1</td>\n",
       "      <td>1</td>\n",
       "      <td>12</td>\n",
       "      <td>10</td>\n",
       "    </tr>\n",
       "    <tr>\n",
       "      <th>1</th>\n",
       "      <td>1</td>\n",
       "      <td>1</td>\n",
       "      <td>15</td>\n",
       "      <td>12</td>\n",
       "    </tr>\n",
       "    <tr>\n",
       "      <th>2</th>\n",
       "      <td>1</td>\n",
       "      <td>1</td>\n",
       "      <td>13</td>\n",
       "      <td>13</td>\n",
       "    </tr>\n",
       "    <tr>\n",
       "      <th>3</th>\n",
       "      <td>1</td>\n",
       "      <td>1</td>\n",
       "      <td>12</td>\n",
       "      <td>10</td>\n",
       "    </tr>\n",
       "    <tr>\n",
       "      <th>4</th>\n",
       "      <td>1</td>\n",
       "      <td>1</td>\n",
       "      <td>14</td>\n",
       "      <td>13</td>\n",
       "    </tr>\n",
       "  </tbody>\n",
       "</table>\n",
       "</div>"
      ],
      "text/plain": [
       "   AD_Status  Treatment  Training  Memory\n",
       "0          1          1        12      10\n",
       "1          1          1        15      12\n",
       "2          1          1        13      13\n",
       "3          1          1        12      10\n",
       "4          1          1        14      13"
      ]
     },
     "execution_count": 4,
     "metadata": {},
     "output_type": "execute_result"
    }
   ],
   "source": [
    "variable = pd.read_csv(r\"C:\\Users\\User\\OneDrive\\FRESHMAN\\3rd yr - 1st Sem\\Statistics\\Alzheimers Mice Data.csv\")\n",
    "variable.head()"
   ]
  },
  {
   "cell_type": "code",
   "execution_count": 5,
   "id": "8f2f0f5d",
   "metadata": {},
   "outputs": [
    {
     "data": {
      "text/html": [
       "<div>\n",
       "<style scoped>\n",
       "    .dataframe tbody tr th:only-of-type {\n",
       "        vertical-align: middle;\n",
       "    }\n",
       "\n",
       "    .dataframe tbody tr th {\n",
       "        vertical-align: top;\n",
       "    }\n",
       "\n",
       "    .dataframe thead th {\n",
       "        text-align: right;\n",
       "    }\n",
       "</style>\n",
       "<table border=\"1\" class=\"dataframe\">\n",
       "  <thead>\n",
       "    <tr style=\"text-align: right;\">\n",
       "      <th></th>\n",
       "      <th>AD_Status</th>\n",
       "      <th>Treatment</th>\n",
       "      <th>Training</th>\n",
       "      <th>Memory</th>\n",
       "    </tr>\n",
       "  </thead>\n",
       "  <tbody>\n",
       "    <tr>\n",
       "      <th>0</th>\n",
       "      <td>1</td>\n",
       "      <td>1</td>\n",
       "      <td>12</td>\n",
       "      <td>10</td>\n",
       "    </tr>\n",
       "    <tr>\n",
       "      <th>1</th>\n",
       "      <td>1</td>\n",
       "      <td>1</td>\n",
       "      <td>15</td>\n",
       "      <td>12</td>\n",
       "    </tr>\n",
       "    <tr>\n",
       "      <th>2</th>\n",
       "      <td>1</td>\n",
       "      <td>1</td>\n",
       "      <td>13</td>\n",
       "      <td>13</td>\n",
       "    </tr>\n",
       "    <tr>\n",
       "      <th>3</th>\n",
       "      <td>1</td>\n",
       "      <td>1</td>\n",
       "      <td>12</td>\n",
       "      <td>10</td>\n",
       "    </tr>\n",
       "    <tr>\n",
       "      <th>4</th>\n",
       "      <td>1</td>\n",
       "      <td>1</td>\n",
       "      <td>14</td>\n",
       "      <td>13</td>\n",
       "    </tr>\n",
       "  </tbody>\n",
       "</table>\n",
       "</div>"
      ],
      "text/plain": [
       "   AD_Status  Treatment  Training  Memory\n",
       "0          1          1        12      10\n",
       "1          1          1        15      12\n",
       "2          1          1        13      13\n",
       "3          1          1        12      10\n",
       "4          1          1        14      13"
      ]
     },
     "execution_count": 5,
     "metadata": {},
     "output_type": "execute_result"
    }
   ],
   "source": [
    "df = pd.read_csv(\"C:/Users/User/OneDrive/FRESHMAN/3rd yr - 1st Sem/Statistics\\Alzheimers Mice Data.csv\")\n",
    "df.head()"
   ]
  },
  {
   "cell_type": "code",
   "execution_count": 8,
   "id": "655905f2",
   "metadata": {},
   "outputs": [
    {
     "ename": "SyntaxError",
     "evalue": "incomplete input (1245426269.py, line 40)",
     "output_type": "error",
     "traceback": [
      "\u001b[1;36m  Cell \u001b[1;32mIn[8], line 40\u001b[1;36m\u001b[0m\n\u001b[1;33m    # Return the result of the test\u001b[0m\n\u001b[1;37m                                   ^\u001b[0m\n\u001b[1;31mSyntaxError\u001b[0m\u001b[1;31m:\u001b[0m incomplete input\n"
     ]
    }
   ],
   "source": [
    "import pandas as pd\n",
    "from scipy.stats import f_oneway\n",
    "from statsmodels.stats.anova import AnovaRM\n",
    "\n",
    "df = pd.read_csv(\"C:/Users/User/OneDrive/FRESHMAN/3rd yr - 1st Sem/Statistics\\Alzheimers Mice Data.csv\")\n",
    "df.head()\n",
    "\n",
    "# Step 2: Check assumptions\n",
    "# - Homogeneity of variances\n",
    "homogeneity_test = LeveneTest(df['Training'], df['AD_Status'], df['Treatment'])\n",
    "print(f\"Homogeneity of Variances Test:\\n{homogeneity_test}\")\n",
    "\n",
    "# - Normality\n",
    "normality_test = ShapiroWilkTest(df['Training'])\n",
    "print(f\"\\nNormality Test:\\n{normality_test}\")\n",
    "\n",
    "# Step 3: Perform 2-Factor (2B) ANOVA\n",
    "# We'll use the statsmodels library for a mixed-design ANOVA\n",
    "aovrm = AnovaRM(df, 'Training', 'ID', within=['AD_Status', 'Treatment'])\n",
    "result = aovrm.fit()\n",
    "\n",
    "# Step 4: Generate a report\n",
    "print(\"\\n2-Factor ANOVA Results:\")\n",
    "print(result)\n",
    "\n",
    "# Step 5: Post hoc tests (if needed)\n",
    "# You can perform post hoc tests like Tukey HSD for pairwise comparisons\n",
    "\n",
    "# Note: You need to define the LeveneTest and ShapiroWilkTest functions based on your requirements.\n",
    "# These functions can be used to check the assumptions.\n",
    "\n",
    "# Function to perform Levene's test for homogeneity of variances\n",
    "def LeveneTest(*args):\n",
    "    # Implement Levene's test using scipy.stats or other appropriate library\n",
    "    # Return the result of the test\n",
    "\n",
    "# Function to perform Shapiro-Wilk test for normality\n",
    "#def ShapiroWilkTest(data):\n",
    "    # Implement Shapiro-Wilk test using scipy.stats or other appropriate library\n",
    "    # Return the result of the test\n"
   ]
  },
  {
   "cell_type": "code",
   "execution_count": 7,
   "id": "17635db5",
   "metadata": {},
   "outputs": [
    {
     "name": "stdout",
     "output_type": "stream",
     "text": [
      "Homogeneity of Variances Test:\n",
      "LeveneResult(statistic=14.378717305625225, pvalue=2.6090117176313906e-06)\n",
      "\n",
      "Normality Test:\n",
      "ShapiroResult(statistic=0.9358311891555786, pvalue=0.025071943178772926)\n"
     ]
    }
   ],
   "source": [
    "import pandas as pd\n",
    "from scipy.stats import shapiro, levene\n",
    "from statsmodels.stats.anova import AnovaRM\n",
    "\n",
    "# Step 1: Read the CSV file\n",
    "file_path = \"C:/Users/User/OneDrive/FRESHMAN/3rd yr - 1st Sem/Statistics/Alzheimers Mice Data.csv\"\n",
    "df = pd.read_csv(file_path)\n",
    "df.head()\n",
    "\n",
    "# Step 2: Check assumptions\n",
    "# - Homogeneity of variances\n",
    "homogeneity_test = levene(df['Training'], df['AD_Status'], df['Treatment'])\n",
    "print(f\"Homogeneity of Variances Test:\\n{homogeneity_test}\")\n",
    "\n",
    "# - Normality\n",
    "normality_test = shapiro(df['Training'])\n",
    "print(f\"\\nNormality Test:\\n{normality_test}\")"
   ]
  },
  {
   "cell_type": "code",
   "execution_count": null,
   "id": "5260a6b7",
   "metadata": {},
   "outputs": [],
   "source": []
  }
 ],
 "metadata": {
  "kernelspec": {
   "display_name": "Python 3 (ipykernel)",
   "language": "python",
   "name": "python3"
  },
  "language_info": {
   "codemirror_mode": {
    "name": "ipython",
    "version": 3
   },
   "file_extension": ".py",
   "mimetype": "text/x-python",
   "name": "python",
   "nbconvert_exporter": "python",
   "pygments_lexer": "ipython3",
   "version": "3.11.4"
  }
 },
 "nbformat": 4,
 "nbformat_minor": 5
}
