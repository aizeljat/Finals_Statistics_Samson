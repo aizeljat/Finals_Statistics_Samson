{
 "cells": [
  {
   "cell_type": "code",
   "execution_count": 5,
   "id": "78e2ab0f",
   "metadata": {},
   "outputs": [
    {
     "name": "stdout",
     "output_type": "stream",
     "text": [
      "Descriptive Statistics:\n",
      "         count      mean       std   min     25%    50%     75%  max\n",
      "Stimuli                                                             \n",
      "Pattern   12.0  2.887500  0.683947  1.85  2.5000  3.025  3.2500  4.1\n",
      "Picture   12.0  3.954167  0.607700  3.05  3.6125  4.175  4.2875  5.0\n",
      "Shape     12.0  1.250000  0.488504  0.50  0.9375  1.250  1.5625  2.0\n",
      "\n",
      "Shapiro-Wilk test for normality of residuals: ShapiroResult(statistic=0.9771364331245422, pvalue=0.6481318473815918)\n",
      "Levene's test for homogeneity of variances: LeveneResult(statistic=0.43132798942236117, pvalue=0.6532556922411884)\n",
      "\n",
      "ANOVA Results:\n",
      "             sum_sq    df          F        PR(>F)\n",
      "Stimuli   44.526806   2.0  62.088859  6.531740e-12\n",
      "Residual  11.832917  33.0        NaN           NaN\n"
     ]
    }
   ],
   "source": [
    "import pandas as pd\n",
    "from scipy.stats import f_oneway, shapiro, levene\n",
    "import statsmodels.api as sm\n",
    "from statsmodels.formula.api import ols\n",
    "\n",
    "# Step 1: Read the CSV file\n",
    "df = pd.read_csv(\"C:\\\\Users\\\\User\\\\OneDrive\\\\FRESHMAN\\\\3rd yr - 1st Sem\\\\Statistics\\\\RatExploration.csv\")\n",
    "df.head()\n",
    "\n",
    "# Step 2: Descriptive Statistics\n",
    "print(\"Descriptive Statistics:\")\n",
    "print(df.groupby('Stimuli')['Time'].describe())\n",
    "\n",
    "# Step 3: One-way ANOVA\n",
    "anova_model = ols('Time ~ Stimuli', data=df).fit()\n",
    "anova_table = sm.stats.anova_lm(anova_model, typ=2)\n",
    "\n",
    "# Step 4: Check assumptions\n",
    "# - Normality\n",
    "shapiro_test = shapiro(anova_model.resid)\n",
    "print(f\"\\nShapiro-Wilk test for normality of residuals: {shapiro_test}\")\n",
    "\n",
    "# - Homogeneity of variances\n",
    "levene_test = levene(df['Time'][df['Stimuli'] == 'Shape'],\n",
    "                     df['Time'][df['Stimuli'] == 'Pattern'],\n",
    "                     df['Time'][df['Stimuli'] == 'Picture'])\n",
    "print(f\"Levene's test for homogeneity of variances: {levene_test}\")\n",
    "\n",
    "# Step 5: Report\n",
    "print(\"\\nANOVA Results:\")\n",
    "print(anova_table)\n",
    "\n",
    "# Step 6: Post hoc tests (if needed)\n",
    "# You can perform post hoc tests like Tukey HSD for pairwise comparisons\n",
    "\n",
    "# Note: You may need to install the necessary libraries if not already installed.\n",
    "# You can install them using: pip install pandas scipy statsmodels\n"
   ]
  },
  {
   "cell_type": "code",
   "execution_count": null,
   "id": "f50dff01",
   "metadata": {},
   "outputs": [],
   "source": []
  }
 ],
 "metadata": {
  "kernelspec": {
   "display_name": "Python 3 (ipykernel)",
   "language": "python",
   "name": "python3"
  },
  "language_info": {
   "codemirror_mode": {
    "name": "ipython",
    "version": 3
   },
   "file_extension": ".py",
   "mimetype": "text/x-python",
   "name": "python",
   "nbconvert_exporter": "python",
   "pygments_lexer": "ipython3",
   "version": "3.11.4"
  }
 },
 "nbformat": 4,
 "nbformat_minor": 5
}
